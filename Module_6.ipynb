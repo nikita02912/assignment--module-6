{
  "nbformat": 4,
  "nbformat_minor": 0,
  "metadata": {
    "colab": {
      "provenance": []
    },
    "kernelspec": {
      "name": "python3",
      "display_name": "Python 3"
    },
    "language_info": {
      "name": "python"
    }
  },
  "cells": [
    {
      "cell_type": "code",
      "execution_count": null,
      "metadata": {
        "id": "Fqb1P5PNdq1q"
      },
      "outputs": [],
      "source": []
    },
    {
      "cell_type": "markdown",
      "source": [
        "1-What is the difference between interpreted and compiled languages"
      ],
      "metadata": {
        "id": "GyTqAkHCdyHv"
      }
    },
    {
      "cell_type": "markdown",
      "source": [
        "The main difference between interpreted and compiled languages lies in how the source code is executed by the computer.\n",
        "\n",
        "Compiled Languages:\n",
        "Compilation Process: In compiled languages, the entire source code is translated into machine code (binary code) by a compiler before execution. The compiler reads the entire program, converts it into an executable file (such as .exe), and then this file can be run on the target machine.\n",
        "\n",
        "Execution: After compilation, the executable file can be run directly without needing the source code. The process of compilation happens only once.\n",
        "\n",
        "Performance: Compiled languages tend to have better performance since the code is directly converted to machine code, which is executed by the computer's processor.\n",
        "\n",
        "Examples: C, C++, Rust, Go, Swift.\n",
        "\n",
        "Error Detection: Errors are usually detected during the compilation phase, meaning you get a list of errors after trying to compile the code, but before running it.\n",
        "\n",
        "Interpreted Languages:\n",
        "Interpretation Process: In interpreted languages, the source code is not compiled into machine code in advance. Instead, it is read and executed line-by-line by an interpreter. The interpreter translates high-level code into machine code at runtime, directly executing it.\n",
        "\n",
        "Execution: The interpreter must be present to run the code, and the program is executed on the fly. There's no separate executable file created as in compiled languages.\n",
        "\n",
        "Performance: Interpreted languages tend to be slower than compiled languages because each line of code is parsed and executed during runtime. The interpreter needs to process the code every time the program is run.\n",
        "\n",
        "Examples: Python, JavaScript, Ruby, PHP, Perl.\n",
        "\n",
        "Error Detection: Errors are typically detected while running the program, making debugging sometimes easier because you can immediately test the code line-by-line."
      ],
      "metadata": {
        "id": "3yLF9q_Md-Gc"
      }
    },
    {
      "cell_type": "markdown",
      "source": [
        "2- What is exception handling in Python\n",
        "\n",
        "Exception handling in Python is a mechanism that allows you to deal with runtime errors (exceptions) in a controlled manner. Instead of the program terminating abruptly when an error occurs, Python allows you to catch exceptions and handle them gracefully, making your code more robust and user-friendly."
      ],
      "metadata": {
        "id": "QppO3hi3eLQ5"
      }
    },
    {
      "cell_type": "markdown",
      "source": [
        "3-  What is the purpose of the finally block in exception handling\n",
        "\n",
        "The finally block in exception handling in Python is used to define code that should always be executed, regardless of whether an exception was raised or not. This block is typically used for clean-up operations, such as closing files, releasing resources, or closing network connections."
      ],
      "metadata": {
        "id": "cgOY0PB1eZY6"
      }
    },
    {
      "cell_type": "markdown",
      "source": [
        "4- What is logging in Python\n",
        "\n",
        "Logging in Python is a built-in module (logging) that allows you to record messages during the execution of a program, typically for debugging, tracking, or monitoring purposes. It provides a flexible framework for capturing and handling log messages, and it helps in diagnosing issues and understanding the flow of a program.\n",
        "\n",
        "The logging module allows you to create log messages at different levels of severity and configure various output options, such as writing to files, sending messages over the network, or printing to the console."
      ],
      "metadata": {
        "id": "DOn3mGCve5Ru"
      }
    },
    {
      "cell_type": "markdown",
      "source": [
        "5-What is the significance of the __del__ method in Python\n",
        "\n",
        "The __del__ method in Python is a special method (also called a destructor) that is called when an object is about to be destroyed or garbage collected. It is used to define cleanup actions for an object before it is removed from memory."
      ],
      "metadata": {
        "id": "_uOM7FnKfGF7"
      }
    },
    {
      "cell_type": "markdown",
      "source": [
        "6-What is the difference between import and from ... import in Python\n",
        "\n",
        "In Python, the import statement and the from ... import statement are both used to bring modules and their components into the current namespace, but they work in different ways and serve different purposes. Here’s a breakdown of the differences:\n",
        "\n",
        "1. import Statement:\n",
        "\n",
        "The import statement allows you to import a whole module. After importing, you will need to use the module name to access its functions, classes, and variables.\n",
        "\n",
        "2. from ... import Statement:\n",
        "\n",
        "The from ... import statement allows you to import specific components (functions, classes, variables) from a module directly into the current namespace, so you don't need to use the module name as a prefix.\n"
      ],
      "metadata": {
        "id": "rT3izWpafh-C"
      }
    },
    {
      "cell_type": "markdown",
      "source": [
        "7- How can you handle multiple exceptions in Python\n",
        "\n",
        "In Python, you can handle multiple exceptions using a try-except block in several ways. There are multiple approaches to handling multiple exceptions depending on your use case. Here's a guide to how you can handle multiple exceptions:\n",
        "\n",
        "## Handling Multiple Exceptions Using Multiple except Clauses:\n",
        "\n",
        "You can use multiple except blocks to handle different types of exceptions individually. Each except block can handle a specific exception type.\n",
        "\n",
        "try:\n",
        "    num = int(input(\"Enter a number: \"))\n",
        "    result = 10 / num\n",
        "except ZeroDivisionError:\n",
        "    print(\"Error: Cannot divide by zero!\")\n",
        "except ValueError:\n",
        "    print(\"Error: Invalid input! Please enter a valid integer.\")\n",
        "\n",
        "## Handling Multiple Exceptions in a Single except Clause\n",
        "\n",
        "If you want to handle multiple exceptions with the same code block, you can specify multiple exception types in a single except clause by grouping them in a tuple.\n",
        "\n",
        "Example:\n",
        "python\n",
        "Copy code\n",
        "try:\n",
        "    num = int(input(\"Enter a number: \"))\n",
        "    result = 10 / num\n",
        "except (ZeroDivisionError, ValueError) as e:\n",
        "    print(f\"Error: {e}\")"
      ],
      "metadata": {
        "id": "tEKm1kcxgXFY"
      }
    },
    {
      "cell_type": "markdown",
      "source": [
        "8-What is the purpose of the with statement when handling files in Python\n",
        "\n",
        "The with statement simplifies file handling by ensuring that files are automatically closed after use.\n",
        "It provides better resource management and exception safety compared to manually opening and closing files.\n",
        "It is generally considered a best practice to use the with statement for file operations to ensure that resources are properly managed."
      ],
      "metadata": {
        "id": "1WfldJwghbNG"
      }
    },
    {
      "cell_type": "markdown",
      "source": [
        "=9-What is the difference between multithreading and multiprocessing\n",
        "\n",
        "Multithreading is best for I/O-bound tasks and uses threads within a single process.\n",
        "Multiprocessing is best for CPU-bound tasks and uses multiple processes, allowing true parallelism and bypassing the GIL limitations.\n"
      ],
      "metadata": {
        "id": "v6ULi9yvhpJC"
      }
    },
    {
      "cell_type": "markdown",
      "source": [
        "10- What are the advantages of using logging in a program\n",
        "\n",
        "Using logging in a program provides several advantages that help in maintaining, debugging, and monitoring applications, especially in production environments. Here are the key advantages of using logging:\n",
        "\n",
        "1. Better Debugging and Troubleshooting:\n",
        "Captures Detailed Information: Logging provides detailed information about the application's execution flow, such as error messages, warnings, and general information. This helps developers troubleshoot problems and understand the state of the application at any given point.\n",
        "\n",
        "2. Persistent Record of Events:\n",
        "Logs provide a persistent record of what happened during the execution of the program. Unlike print statements, which disappear once the program ends, logs are saved to files or other storage systems, allowing you to refer back to them when needed."
      ],
      "metadata": {
        "id": "V7SGKeEUiIQO"
      }
    },
    {
      "cell_type": "markdown",
      "source": [
        "11- What is memory management in Python\n",
        "\n",
        "Memory management in Python refers to the process of efficiently handling memory allocation and deallocation during the execution of a Python program. It ensures that memory is used optimally, and that unused memory is released for future use, helping avoid memory leaks and optimizing performance.\n",
        "\n"
      ],
      "metadata": {
        "id": "tANxBXILjZ8Y"
      }
    },
    {
      "cell_type": "markdown",
      "source": [
        "12-What are the basic steps involved in exception handling in Python\n",
        "\n",
        "In Python, exception handling is a mechanism to deal with errors (also called exceptions) that occur during the execution of a program. Instead of letting the program crash, exception handling allows the program to catch and handle errors gracefully, so the program can continue running or terminate in a controlled way.\n",
        "\n",
        "try: Write the code that might raise an exception.\n",
        "\n",
        "except: Catch and handle specific exceptions that occur in the try block.\n",
        "\n",
        "else (optional): Code to run if no exception occurs.\n",
        "\n",
        "finally (optional): Code that will always run, regardless of whether an exception occurred or not.\n"
      ],
      "metadata": {
        "id": "34X_9yLkj7dZ"
      }
    },
    {
      "cell_type": "markdown",
      "source": [
        "13- Why is memory management important in Python\n",
        "\n",
        "Memory management is vital in Python to ensure the efficient and stable execution of programs. With automatic reference counting and garbage collection, Python handles much of the memory management behind the scenes, reducing the risk of memory leaks and fragmentation. However, developers still need to be aware of memory usage, especially when dealing with large objects or complex data structures, and can use tools and techniques to optimize memory usage for better performance."
      ],
      "metadata": {
        "id": "gcdhjWKekXur"
      }
    },
    {
      "cell_type": "markdown",
      "source": [
        "14-  What is the role of try and except in exception handling\n",
        "\n",
        "the try and except blocks allow developers to anticipate potential errors, catch them, and handle them in a controlled way, which makes the code more resilient, predictable, and robust."
      ],
      "metadata": {
        "id": "I6fGrrfHknPI"
      }
    },
    {
      "cell_type": "markdown",
      "source": [
        "15- How does Python's garbage collection system work\n",
        "\n",
        "Python's garbage collection system is an automatic memory management mechanism that helps manage and reclaim memory that is no longer in use, reducing the risk of memory leaks and improving the performance of Python applications. The key goal of garbage collection is to automatically deallocate memory used by objects that are no longer accessible or necessary, ensuring efficient use of memory."
      ],
      "metadata": {
        "id": "qlFy_h09k8Vh"
      }
    },
    {
      "cell_type": "markdown",
      "source": [
        "16-What is the purpose of the else block in exception handling\n",
        "\n",
        "In Python's exception handling mechanism, the else block is used to define code that should run if no exceptions are raised in the associated try block. The else block is placed after all the except blocks, and it will only execute if the code inside the try block completes without errors."
      ],
      "metadata": {
        "id": "khyt2honmIRo"
      }
    },
    {
      "cell_type": "markdown",
      "source": [
        "17- What are the common logging levels in Python\n",
        "\n",
        "In Python, the logging module provides a flexible framework for logging messages in an application. The module defines several logging levels that indicate the severity or importance of the log messages. These levels are used to categorize log messages based on their significance, and each level has a corresponding numeric value."
      ],
      "metadata": {
        "id": "bpkRb1fymRpQ"
      }
    },
    {
      "cell_type": "markdown",
      "source": [
        "18-What is the difference between os.fork() and multiprocessing in Python\n",
        "\n",
        "os.fork() is a low-level function for creating child processes by duplicating the parent process. It is efficient on UNIX systems but lacks portability and higher-level management features.\n",
        "\n",
        "multiprocessing is a high-level module that provides an easier, more flexible way to work with processes. It works on both UNIX and Windows and includes features for shared memory, process pools, and inter-process communication."
      ],
      "metadata": {
        "id": "tcnsIYIgmjP5"
      }
    },
    {
      "cell_type": "markdown",
      "source": [
        "19-  What is the importance of closing a file in Python\n",
        "\n",
        "Closing a file is essential for releasing system resources, ensuring data integrity, preventing data corruption, avoiding file locking issues, and improving program efficiency.\n",
        "It's recommended to always close files properly, and using the with statement is the best way to ensure files are closed automatically when you are done with them."
      ],
      "metadata": {
        "id": "mVVDEHvAmyy2"
      }
    },
    {
      "cell_type": "markdown",
      "source": [
        "20- What is the difference between file.read() and file.readline() in Python\n",
        "\n",
        "file.read() reads the entire file (or a specified number of characters) into a single string.\n",
        "file.readline() reads one line at a time, which is useful when you need to process files line by line without loading the entire file into memory.\n"
      ],
      "metadata": {
        "id": "U4an7oJ-nDwc"
      }
    },
    {
      "cell_type": "markdown",
      "source": [
        "21-What is the logging module in Python used for\n",
        "\n",
        "The logging module is an essential part of Python's standard library, enabling effective tracking, monitoring, and debugging of applications. It offers powerful features like configurable log levels, handlers, and formatters, allowing developers to log messages efficiently and manage large volumes of data from their applications.\n"
      ],
      "metadata": {
        "id": "kh0mvHMunTW2"
      }
    },
    {
      "cell_type": "markdown",
      "source": [
        "22- What is the os module in Python used for in file handling\n",
        "\n",
        "The os module in Python is essential for interacting with the operating system and performing file-related operations. It provides functions for file and directory manipulation, checking file properties, working with paths, managing file permissions, and much more. This module is useful for tasks like automating file handling, managing directories, and interacting with the underlying file system in a cross-platform manner.\n"
      ],
      "metadata": {
        "id": "uBbH-EcmnhK0"
      }
    },
    {
      "cell_type": "markdown",
      "source": [
        "23-What are the challenges associated with memory management in Python\n",
        "\n",
        "While Python provides automatic memory management via garbage collection, several challenges can arise when managing memory efficiently, especially in memory-constrained environments or large-scale applications. Developers need to be mindful of issues such as memory leaks, cyclic references, and inefficient memory usage when working with Python to ensure the program performs optimally without exhausting system resources. Profiling tools, better algorithms, and more memory-efficient libraries (such as numpy or pandas for numerical data) can help mitigate some of these challenges."
      ],
      "metadata": {
        "id": "Dml7GmqaoOsh"
      }
    },
    {
      "cell_type": "markdown",
      "source": [
        "24- How do you raise an exception manually in Python\n",
        "\n",
        "Validating inputs: Raise exceptions when the input does not meet specific criteria (e.g., negative numbers, out-of-range values).\n",
        "Handling specific error conditions: For example, raising exceptions when certain files or resources are unavailable.\n",
        "Enforcing logic: Manually raise an exception to stop the flow of the program or enforce specific conditions.\n",
        "\n",
        "In general, raising exceptions manually is a way to handle exceptional situations that may occur in your program and to make your code more robust and easier to debug."
      ],
      "metadata": {
        "id": "aGnK4I7Nogt6"
      }
    },
    {
      "cell_type": "markdown",
      "source": [
        "25- Why is it important to use multithreading in certain applications?\n",
        "\n",
        "Multithreading is important because it enables applications to perform multiple tasks concurrently, making better use of available resources, improving performance, and enhancing user experience. It is particularly beneficial in applications that are I/O-bound, require real-time response, or need to perform tasks in parallel. However, while multithreading can bring significant advantages, it also introduces challenges like thread synchronization, race conditions, and deadlocks that must be carefully managed."
      ],
      "metadata": {
        "id": "_9v7J9Bso3AL"
      }
    },
    {
      "cell_type": "markdown",
      "source": [],
      "metadata": {
        "id": "oES41jR1pAnK"
      }
    },
    {
      "cell_type": "code",
      "source": [],
      "metadata": {
        "id": "LmHb0W4upA1D"
      },
      "execution_count": null,
      "outputs": []
    },
    {
      "cell_type": "markdown",
      "source": [
        "# Practical Questions\n"
      ],
      "metadata": {
        "id": "ZAJABJAhpBRG"
      }
    },
    {
      "cell_type": "markdown",
      "source": [
        "1- Open a file for writing and write a string to it\n",
        "\n",
        "with open('file.txt', 'w') as file:\n",
        "    file.write(\"This is a sample string.\")\n",
        "\n",
        "2. Read the contents of a file and print each line\n",
        "\n",
        "with open('file.txt', 'r') as file:\n",
        "    for line in file:\n",
        "        print(line, end='')\n",
        "\n",
        "3. Handle a case where the file doesn't exist while trying to open it for reading\n",
        "\n",
        "try:\n",
        "    with open('file_not_exist.txt', 'r') as file:\n",
        "        content = file.read()\n",
        "except FileNotFoundError:\n",
        "    print(\"The file doesn't exist.\")\n",
        "\n",
        "4. Read from one file and write its content to another file\n",
        "\n",
        "try:\n",
        "    with open('source.txt', 'r') as source_file:\n",
        "        content = source_file.read()\n",
        "\n",
        "    with open('destination.txt', 'w') as dest_file:\n",
        "        dest_file.write(content)\n",
        "except FileNotFoundError:\n",
        "    print(\"One or both of the files do not exist.\")\n",
        "\n",
        "5. Catch and handle division by zero error in Python\n",
        "\n",
        "try:\n",
        "    result = 10 / 0\n",
        "except ZeroDivisionError:\n",
        "    print(\"Cannot divide by zero!\")\n",
        "\n",
        "6. Log an error message to a log file when a division by zero exception occurs\n",
        "\n",
        "import logging\n",
        "\n",
        "logging.basicConfig(filename='error.log', level=logging.ERROR)\n",
        "\n",
        "try:\n",
        "    result = 10 / 0\n",
        "except ZeroDivisionError:\n",
        "    logging.error(\"Division by zero error occurred\")\n",
        "\n",
        "7. Log information at different levels (INFO, ERROR, WARNING) in Python using the logging module\n",
        "\n",
        "import logging\n",
        "\n",
        "logging.basicConfig(filename='app.log', level=logging.DEBUG)\n",
        "\n",
        "logging.info(\"This is an info message.\")\n",
        "logging.warning(\"This is a warning message.\")\n",
        "logging.error(\"This is an error message.\")\n",
        "\n",
        "8. Handle a file opening error using exception handling\n",
        "\n",
        "try:\n",
        "    with open('non_existent_file.txt', 'r') as file:\n",
        "        content = file.read()\n",
        "except IOError:\n",
        "    print(\"Error opening the file.\")\n",
        "\n",
        "9. Read a file line by line and store its content in a list\n",
        "\n",
        "with open('file.txt', 'r') as file:\n",
        "    lines = file.readlines()\n",
        "\n",
        "print(lines)\n",
        "\n",
        "10. Append data to an existing file\n",
        "\n",
        "with open('file.txt', 'a') as file:\n",
        "    file.write(\"Appending new data to the file.\")\n",
        "\n",
        "11. Handle an error when attempting to access a dictionary key that doesn't exist\n",
        "\n",
        "my_dict = {'a': 1, 'b': 2}\n",
        "\n",
        "try:\n",
        "    value = my_dict['c']\n",
        "except KeyError:\n",
        "    print(\"Key not found in the dictionary.\")\n",
        "\n",
        "12. Use multiple except blocks to handle different types of exceptions\n",
        "\n",
        "try:\n",
        "    result = 10 / 0\n",
        "    my_dict = {'a': 1}\n",
        "    value = my_dict['b']\n",
        "except ZeroDivisionError:\n",
        "    print(\"Cannot divide by zero.\")\n",
        "except KeyError:\n",
        "    print(\"Key not found in the dictionary.\")\n",
        "\n",
        "13. Check if a file exists before attempting to read it\n",
        "\n",
        "import os\n",
        "\n",
        "if os.path.exists('file.txt'):\n",
        "    with open('file.txt', 'r') as file:\n",
        "        content = file.read()\n",
        "else:\n",
        "    print(\"File does not exist.\")\n",
        "\n",
        "14. Log both informational and error messages using the logging module\n",
        "\n",
        "import logging\n",
        "\n",
        "logging.basicConfig(filename='app.log', level=logging.DEBUG)\n",
        "\n",
        "logging.info(\"This is an informational message.\")\n",
        "logging.error(\"This is an error message.\")\n",
        "\n",
        "15. Print the content of a file and handle the case when the file is empty\n",
        "\n",
        "try:\n",
        "    with open('file.txt', 'r') as file:\n",
        "        content = file.read()\n",
        "        if not content:\n",
        "            print(\"The file is empty.\")\n",
        "        else:\n",
        "            print(content)\n",
        "except FileNotFoundError:\n",
        "    print(\"The file doesn't exist.\")\n",
        "\n",
        "16. Use memory profiling to check the memory usage of a small program\n",
        "\n",
        "import psutil\n",
        "import os\n",
        "\n",
        "process = psutil.Process(os.getpid())\n",
        "memory_info = process.memory_info()\n",
        "\n",
        "print(f\"Memory usage: {memory_info.rss / 1024 / 1024:.2f} MB\")\n",
        "\n",
        "17. Create and write a list of numbers to a file, one number per line\n",
        "\n",
        "numbers = [1, 2, 3, 4, 5]\n",
        "\n",
        "with open('numbers.txt', 'w') as file:\n",
        "    for number in numbers:\n",
        "        file.write(f\"{number}\\n\")\n",
        "\n",
        "18. Implement a basic logging setup that logs to a file with rotation after 1MB\n",
        "\n",
        "import logging\n",
        "from logging.handlers import RotatingFileHandler\n",
        "\n",
        "logger = logging.getLogger('my_logger')\n",
        "logger.setLevel(logging.DEBUG)\n",
        "\n",
        "handler = RotatingFileHandler('app.log', maxBytes=1e6, backupCount=5)\n",
        "logger.addHandler(handler)\n",
        "\n",
        "logger.debug(\"This is a debug message.\")\n",
        "logger.info(\"This is an info message.\")\n",
        "\n",
        "19. Handle both IndexError and KeyError using a try-except block\n",
        "\n",
        "my_list = [1, 2, 3]\n",
        "my_dict = {'a': 1, 'b': 2}\n",
        "\n",
        "try:\n",
        "    print(my_list[5])\n",
        "    print(my_dict['c'])\n",
        "except IndexError:\n",
        "    print(\"Index out of range.\")\n",
        "except KeyError:\n",
        "    print(\"Key not found in the dictionary.\")\n",
        "\n",
        "20. Open a file and read its contents using a context manager\n",
        "\n",
        "with open('file.txt', 'r') as file:\n",
        "    content = file.read()\n",
        "    print(content)\n",
        "\n",
        "21. Read a file and print the number of occurrences of a specific word\n",
        "\n",
        "word_to_find = \"example\"\n",
        "with open('file.txt', 'r') as file:\n",
        "    content = file.read()\n",
        "    count = content.count(word_to_find)\n",
        "    print(f\"The word '{word_to_find}' occurs {count} times.\")\n",
        "\n",
        "22. Check if a file is empty before attempting to read its contents\n",
        "\n",
        "import os\n",
        "\n",
        "if os.path.getsize('file.txt') == 0:\n",
        "    print(\"The file is empty.\")\n",
        "else:\n",
        "    with open('file.txt', 'r') as file:\n",
        "        content = file.read()\n",
        "        print(content)\n",
        "\n",
        "23. Write to a log file when an error occurs during file handling\n",
        "\n",
        "import logging\n",
        "\n",
        "logging.basicConfig(filename='error.log', level=logging.ERROR)\n",
        "\n",
        "try:\n",
        "    with open('file.txt', 'r') as file:\n",
        "        content = file.read()\n",
        "except FileNotFoundError as e:\n",
        "    logging.error(f\"File not found: {e}\")\n",
        "except Exception as e:\n",
        "    logging.error(f\"An error occurred: {e}\")"
      ],
      "metadata": {
        "id": "CtA30NMCpEcs"
      }
    },
    {
      "cell_type": "code",
      "source": [],
      "metadata": {
        "id": "fNrKKFgiq2H_"
      },
      "execution_count": null,
      "outputs": []
    },
    {
      "cell_type": "code",
      "source": [],
      "metadata": {
        "id": "LFyaxyenpz7e"
      },
      "execution_count": null,
      "outputs": []
    },
    {
      "cell_type": "code",
      "source": [],
      "metadata": {
        "id": "T9zu4LC9p1CE"
      },
      "execution_count": null,
      "outputs": []
    },
    {
      "cell_type": "code",
      "source": [],
      "metadata": {
        "id": "kLfOAdXGp1RB"
      },
      "execution_count": null,
      "outputs": []
    },
    {
      "cell_type": "markdown",
      "source": [],
      "metadata": {
        "id": "OoD316Uvpjvf"
      }
    },
    {
      "cell_type": "markdown",
      "source": [],
      "metadata": {
        "id": "NyS1_VjSpkJ7"
      }
    },
    {
      "cell_type": "code",
      "source": [],
      "metadata": {
        "id": "rcDVBtSOpkjD"
      },
      "execution_count": null,
      "outputs": []
    },
    {
      "cell_type": "markdown",
      "source": [],
      "metadata": {
        "id": "TX2wNmfEpelA"
      }
    },
    {
      "cell_type": "code",
      "source": [],
      "metadata": {
        "id": "zVXy0H-PpfZU"
      },
      "execution_count": null,
      "outputs": []
    },
    {
      "cell_type": "markdown",
      "source": [],
      "metadata": {
        "id": "-zzyKzfPozZJ"
      }
    },
    {
      "cell_type": "markdown",
      "source": [],
      "metadata": {
        "id": "j_Xm-pPUg62O"
      }
    }
  ]
}